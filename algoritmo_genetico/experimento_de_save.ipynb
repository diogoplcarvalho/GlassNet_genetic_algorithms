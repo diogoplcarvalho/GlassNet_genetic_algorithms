{
 "cells": [
  {
   "cell_type": "code",
   "execution_count": 1,
   "metadata": {},
   "outputs": [
    {
     "name": "stderr",
     "output_type": "stream",
     "text": [
      "C:\\Users\\jose23038\\AppData\\Roaming\\Python\\Python310\\site-packages\\sklearn\\base.py:376: InconsistentVersionWarning: Trying to unpickle estimator MinMaxScaler from version 1.2.0 when using version 1.4.1.post1. This might lead to breaking code or invalid results. Use at your own risk. For more info please refer to:\n",
      "https://scikit-learn.org/stable/model_persistence.html#security-maintainability-limitations\n",
      "  warnings.warn(\n"
     ]
    }
   ],
   "source": [
    "import pandas as pd\n",
    "import numpy as np\n",
    "import matplotlib.pyplot as plt\n",
    "from glasspy.predict import GlassNet\n",
    "from glasspy.data import SciGlass\n",
    "from functools import partial\n",
    " \n",
    "from funcoes import cria_populacao_compostos as cria_populacao\n",
    "from funcoes import funcao_objetivo_pop as funcao_objetivo_pop\n",
    "from funcoes import selecao_torneio_min as funcao_selecao\n",
    "from funcoes import cruzamento_ponto_duplo as funcao_cruzamento\n",
    "from funcoes import mutacao_sucessiva as funcao_mutacao_1\n",
    "from funcoes import mutacao_simples as funcao_mutacao_2\n",
    "from funcoes import preco_composicao"
   ]
  },
  {
   "cell_type": "code",
   "execution_count": 2,
   "metadata": {},
   "outputs": [],
   "source": [
    "df_compounds_and_prices = pd.read_csv('../analise_exploratoria/Prices.csv',sep=',')\n",
    "\n",
    "COMPOUNDS = list(df_compounds_and_prices['Oxide Coumpounds'])\n",
    "PRECOS = list(df_compounds_and_prices['Price per gram(dolar/gram)'])\n",
    "NUM_COMPOUNDS = len(COMPOUNDS)\n",
    "VALOR_MAX_COMPOUNDS = 100\n",
    "\n",
    "TAMANHO_POPULACAO = 30\n",
    "NUM_GERACOES = 2\n",
    "CHANCE_DE_CRUZAMENTO = 0.5\n",
    "CHANCE_DE_MUTACAO = 0.05\n",
    "CHANCE_DE_MUTACAO_POR_GENE = 0.25\n",
    "TAMANHO_TORNEIO = 3"
   ]
  },
  {
   "cell_type": "code",
   "execution_count": 3,
   "metadata": {},
   "outputs": [
    {
     "name": "stderr",
     "output_type": "stream",
     "text": [
      "C:\\Users\\jose23038\\AppData\\Roaming\\Python\\Python310\\site-packages\\sklearn\\base.py:376: InconsistentVersionWarning: Trying to unpickle estimator MinMaxScaler from version 1.2.0 when using version 1.4.1.post1. This might lead to breaking code or invalid results. Use at your own risk. For more info please refer to:\n",
      "https://scikit-learn.org/stable/model_persistence.html#security-maintainability-limitations\n",
      "  warnings.warn(\n"
     ]
    }
   ],
   "source": [
    "source = SciGlass()\n",
    "MODEL = GlassNet()\n",
    "\n",
    "funcao_objetivo = partial(funcao_objetivo_pop, lista_de_compostos=COMPOUNDS, lista_de_precos=PRECOS, modelo=MODEL)"
   ]
  },
  {
   "cell_type": "code",
   "execution_count": 4,
   "metadata": {},
   "outputs": [
    {
     "data": {
      "text/plain": [
       "[97,\n",
       " 31,\n",
       " 81,\n",
       " 8,\n",
       " 77,\n",
       " 7,\n",
       " 35,\n",
       " 41,\n",
       " 56,\n",
       " 1,\n",
       " 23,\n",
       " 60,\n",
       " 12,\n",
       " 0,\n",
       " 91,\n",
       " 56,\n",
       " 76,\n",
       " 6,\n",
       " 95,\n",
       " 74,\n",
       " 44,\n",
       " 21,\n",
       " 3,\n",
       " 9,\n",
       " 78,\n",
       " 87,\n",
       " 21,\n",
       " 45,\n",
       " 69,\n",
       " 19,\n",
       " 24,\n",
       " 23,\n",
       " 9,\n",
       " 66,\n",
       " 56,\n",
       " 98,\n",
       " 10,\n",
       " 76,\n",
       " 16,\n",
       " 89,\n",
       " 18,\n",
       " 78,\n",
       " 36,\n",
       " 70,\n",
       " 73,\n",
       " 77,\n",
       " 6,\n",
       " 94,\n",
       " 47,\n",
       " 22,\n",
       " 14,\n",
       " 32,\n",
       " 85,\n",
       " 16,\n",
       " 41,\n",
       " 81,\n",
       " 5,\n",
       " 81,\n",
       " 6,\n",
       " 44,\n",
       " 68,\n",
       " 1,\n",
       " 71,\n",
       " 47,\n",
       " 26,\n",
       " 40,\n",
       " 39,\n",
       " 25,\n",
       " 62,\n",
       " 43,\n",
       " 9,\n",
       " 30,\n",
       " 83,\n",
       " 7,\n",
       " 94,\n",
       " 45,\n",
       " 97,\n",
       " 63,\n",
       " 0,\n",
       " 55,\n",
       " 46,\n",
       " 63,\n",
       " 9,\n",
       " 80,\n",
       " 20,\n",
       " 12,\n",
       " 2,\n",
       " 76,\n",
       " 20,\n",
       " 7,\n",
       " 10,\n",
       " 64,\n",
       " 50,\n",
       " 40,\n",
       " 39,\n",
       " 24,\n",
       " 55,\n",
       " 8,\n",
       " 1,\n",
       " 33,\n",
       " 0,\n",
       " 100,\n",
       " 36,\n",
       " 37,\n",
       " 71,\n",
       " 13,\n",
       " 62,\n",
       " 98,\n",
       " 90,\n",
       " 86,\n",
       " 66,\n",
       " 2,\n",
       " 3,\n",
       " 29,\n",
       " 55,\n",
       " 52,\n",
       " 0,\n",
       " 53,\n",
       " 20,\n",
       " 42,\n",
       " 8,\n",
       " 66,\n",
       " 72,\n",
       " 60,\n",
       " 63,\n",
       " 20]"
      ]
     },
     "execution_count": 4,
     "metadata": {},
     "output_type": "execute_result"
    }
   ],
   "source": [
    "\n",
    "populacao = cria_populacao(TAMANHO_POPULACAO, NUM_COMPOUNDS, VALOR_MAX_COMPOUNDS)\n",
    "\n",
    "hall_da_fama = []\n",
    "\n",
    "geracoes = np.arange(1,NUM_GERACOES+1,1)\n",
    "melhores_das_geracoes = []\n",
    "melhores_hardness = []\n",
    "melhores_modulos_young = []\n",
    "melhores_precos = []\n",
    "composicoes_melhores = []\n",
    "numeros_de_compostos_usados = []\n",
    "\n",
    "for n in range(NUM_GERACOES):\n",
    "    #print(f'Geração {n}', end='\\r') \n",
    "    \n",
    "    # Seleção\n",
    "    fitness = funcao_objetivo(populacao)        \n",
    "    selecionados = funcao_selecao(populacao, fitness, TAMANHO_TORNEIO)\n",
    "    \n",
    "    # Cruzamento\n",
    "    proxima_geracao = []\n",
    "    for pai, mae in zip(selecionados[::2], selecionados[1::2]):\n",
    "        individuo1, individuo2 = funcao_cruzamento(pai, mae, CHANCE_DE_CRUZAMENTO)\n",
    "        proxima_geracao.append(individuo1)\n",
    "        proxima_geracao.append(individuo2)\n",
    "    \n",
    "    # Mutação\n",
    "    funcao_mutacao_1(proxima_geracao, CHANCE_DE_MUTACAO, CHANCE_DE_MUTACAO_POR_GENE, VALOR_MAX_COMPOUNDS)\n",
    "    funcao_mutacao_2(proxima_geracao, CHANCE_DE_MUTACAO, VALOR_MAX_COMPOUNDS)\n",
    "        \n",
    "    # Atualização do hall da fama\n",
    "    fitness = funcao_objetivo(proxima_geracao)\n",
    "        \n",
    "    menor_fitness = min(fitness)\n",
    "    indice = fitness.index(menor_fitness)\n",
    "    hall_da_fama.append(proxima_geracao[indice])    \n",
    "    melhores_das_geracoes.append(menor_fitness)\n",
    "    melhor_individuo_geracao = hall_da_fama[n]\n",
    "\n",
    "    dict_composition = dict(zip(COMPOUNDS, melhor_individuo_geracao))\n",
    "    predicao = MODEL.predict(dict_composition)\n",
    "    preco_melhor_local = preco_composicao(melhor_individuo_geracao, PRECOS)\n",
    "\n",
    "\n",
    "    \n",
    "    dicionario_composicao_limpa = {chave: valor for chave, valor in dict_composition.items() if valor != 0}\n",
    "    numero_de_compostsos = len(list(dicionario_composicao_limpa.keys()))\n",
    "    \n",
    "    \n",
    "    melhores_hardness.append(predicao['Microhardness'].iloc[0])\n",
    "    melhores_modulos_young.append(predicao['YoungModulus'].iloc[0])\n",
    "    melhores_precos.append(preco_melhor_local)\n",
    "    composicoes_melhores.append(dicionario_composicao_limpa)\n",
    "    numeros_de_compostos_usados.append(numero_de_compostsos)\n",
    "    # Encerramento\n",
    "    populacao = proxima_geracao\n",
    "        \n",
    "fitness = funcao_objetivo(hall_da_fama)\n",
    "maior_fitness = max(fitness)\n",
    "indice = fitness.index(maior_fitness)\n",
    "melhor_individuo_observado = hall_da_fama[indice]\n",
    "melhor_individuo_observado"
   ]
  },
  {
   "cell_type": "code",
   "execution_count": 5,
   "metadata": {},
   "outputs": [
    {
     "data": {
      "text/plain": [
       "{'SiO2': 97,\n",
       " 'P2O5': 31,\n",
       " 'ZrO2': 81,\n",
       " 'Na2O': 8,\n",
       " 'Al2O3': 77,\n",
       " 'Fe2O3': 7,\n",
       " 'CaO': 35,\n",
       " 'MgO': 41,\n",
       " 'MnO': 56,\n",
       " 'GeO2': 1,\n",
       " 'Li2O': 23,\n",
       " 'Ta2O5': 60,\n",
       " 'ZnO': 12,\n",
       " 'SrO': 0,\n",
       " 'CdO': 91,\n",
       " 'SnO2': 56,\n",
       " 'B2O3': 76,\n",
       " 'La2O3': 6,\n",
       " 'Ga2O3': 95,\n",
       " 'Y2O3': 74,\n",
       " 'TiO2': 44,\n",
       " 'Nb2O5': 21,\n",
       " 'PbO': 3,\n",
       " 'HfO2': 9,\n",
       " 'WO3': 78,\n",
       " 'Sb2O3': 87,\n",
       " 'Bi2O3': 21,\n",
       " 'BaO': 45,\n",
       " 'Cr2O3': 69,\n",
       " 'Cu2O': 19,\n",
       " 'BeO': 24,\n",
       " 'CuO': 23,\n",
       " 'Nd2O3': 9,\n",
       " 'CeO2': 66,\n",
       " 'Cs2O': 56,\n",
       " 'As2O3': 98,\n",
       " 'NH4NO3': 10,\n",
       " 'MoO3': 76,\n",
       " 'FeO': 16,\n",
       " 'Mn2O3': 89,\n",
       " 'SO2': 18,\n",
       " 'Ag2O': 78,\n",
       " 'TeO2': 36,\n",
       " 'CoO': 70,\n",
       " 'In2O3': 73,\n",
       " 'Sc2O3': 77,\n",
       " 'NiO': 6,\n",
       " 'V2O5': 94,\n",
       " 'Li2SO4': 47,\n",
       " 'As2O5': 22,\n",
       " 'MnO2': 14,\n",
       " 'Sm2O3': 32,\n",
       " 'Gd2O3': 85,\n",
       " 'Tb2O3': 16,\n",
       " 'Dy2O3': 41,\n",
       " 'Ho2O3': 81,\n",
       " 'Er2O3': 5,\n",
       " 'Yb2O3': 81,\n",
       " 'Co3O4': 6,\n",
       " 'Fe3O4': 44,\n",
       " 'SnO': 68,\n",
       " 'Mn3O4': 1,\n",
       " 'Pr2O3': 71,\n",
       " 'CrO3': 47,\n",
       " 'Na2SO4': 26,\n",
       " 'Pr6O11': 40,\n",
       " 'Co2O3': 39,\n",
       " 'Ti2O3': 25,\n",
       " '(NH4)2SO4': 62,\n",
       " 'K2SO4': 43,\n",
       " 'Cs2SO4': 9,\n",
       " 'Eu2O3': 30,\n",
       " 'SeO2': 83,\n",
       " 'Lu2O3': 7,\n",
       " 'BiOCl': 94,\n",
       " 'ZnSO4': 45,\n",
       " 'HgO': 97,\n",
       " 'Tm2O3': 63,\n",
       " 'PbSO4': 0,\n",
       " 'BaSO4': 55,\n",
       " 'La2(SO4)3': 46,\n",
       " 'MgSO4': 63,\n",
       " 'PbO2': 9,\n",
       " 'Tl2O3': 80,\n",
       " 'Pb3O4': 20,\n",
       " 'SiO': 12,\n",
       " 'Sn2O3': 2,\n",
       " 'RuO2': 76,\n",
       " 'Tb4O7': 20,\n",
       " 'CO2': 7,\n",
       " 'Ag2SO4': 10,\n",
       " 'C2H5OH': 64,\n",
       " 'Li2CO3': 50,\n",
       " 'Na2CO3': 40,\n",
       " 'Al2(SO4)3': 39,\n",
       " 'PdO': 24,\n",
       " 'MoO2': 55,\n",
       " 'Rh2O3': 8,\n",
       " 'CuSO4': 1,\n",
       " 'VOSO4': 33,\n",
       " 'LiNO3': 0,\n",
       " 'NH4H2PO4': 100,\n",
       " 'CoSO4': 36,\n",
       " 'Na2HPO4': 37,\n",
       " 'CaSO4': 71,\n",
       " 'CdSO4': 13,\n",
       " 'Ag2CO3': 62,\n",
       " 'AgNO3': 98,\n",
       " 'K2CO3': 90,\n",
       " 'Ca(NO3)2': 86,\n",
       " 'KNO3': 66,\n",
       " 'Cd(NO3)2': 2,\n",
       " 'C6H12O6': 3,\n",
       " 'H3BO3': 29,\n",
       " 'Nd2(SO4)3': 55,\n",
       " 'Gd2(SO4)3': 52,\n",
       " 'BaO2': 0,\n",
       " 'NaHSO4': 53,\n",
       " 'RbNO3': 20,\n",
       " 'Au2O3': 42,\n",
       " 'ReO3': 8,\n",
       " 'ZrSiO4': 66,\n",
       " 'AlPO4': 72,\n",
       " 'Na2B4O7': 60,\n",
       " 'CaCO3': 63,\n",
       " 'Re2O7': 20}"
      ]
     },
     "metadata": {},
     "output_type": "display_data"
    },
    {
     "data": {
      "text/html": [
       "<div>\n",
       "<style scoped>\n",
       "    .dataframe tbody tr th:only-of-type {\n",
       "        vertical-align: middle;\n",
       "    }\n",
       "\n",
       "    .dataframe tbody tr th {\n",
       "        vertical-align: top;\n",
       "    }\n",
       "\n",
       "    .dataframe thead th {\n",
       "        text-align: right;\n",
       "    }\n",
       "</style>\n",
       "<table border=\"1\" class=\"dataframe\">\n",
       "  <thead>\n",
       "    <tr style=\"text-align: right;\">\n",
       "      <th></th>\n",
       "      <th>T0</th>\n",
       "      <th>T1</th>\n",
       "      <th>T2</th>\n",
       "      <th>T3</th>\n",
       "      <th>T4</th>\n",
       "      <th>T5</th>\n",
       "      <th>T6</th>\n",
       "      <th>T7</th>\n",
       "      <th>T8</th>\n",
       "      <th>T9</th>\n",
       "      <th>...</th>\n",
       "      <th>Cp1673K</th>\n",
       "      <th>TMaxGrowthVelocity</th>\n",
       "      <th>MaxGrowthVelocity</th>\n",
       "      <th>CrystallizationPeak</th>\n",
       "      <th>CrystallizationOnset</th>\n",
       "      <th>SurfaceTensionAboveTg</th>\n",
       "      <th>SurfaceTension1173K</th>\n",
       "      <th>SurfaceTension1473K</th>\n",
       "      <th>SurfaceTension1573K</th>\n",
       "      <th>SurfaceTension1673K</th>\n",
       "    </tr>\n",
       "  </thead>\n",
       "  <tbody>\n",
       "    <tr>\n",
       "      <th>0</th>\n",
       "      <td>2979.301413</td>\n",
       "      <td>1509.791006</td>\n",
       "      <td>1188.851168</td>\n",
       "      <td>923.043238</td>\n",
       "      <td>1266.361929</td>\n",
       "      <td>1392.464093</td>\n",
       "      <td>916.700498</td>\n",
       "      <td>891.355448</td>\n",
       "      <td>945.422233</td>\n",
       "      <td>1023.492444</td>\n",
       "      <td>...</td>\n",
       "      <td>1549.560875</td>\n",
       "      <td>922.228785</td>\n",
       "      <td>-1.455071</td>\n",
       "      <td>1455.603986</td>\n",
       "      <td>1640.257382</td>\n",
       "      <td>0.61893</td>\n",
       "      <td>0.428889</td>\n",
       "      <td>0.101727</td>\n",
       "      <td>0.395164</td>\n",
       "      <td>1.75569</td>\n",
       "    </tr>\n",
       "  </tbody>\n",
       "</table>\n",
       "<p>1 rows × 85 columns</p>\n",
       "</div>"
      ],
      "text/plain": [
       "            T0           T1           T2          T3           T4  \\\n",
       "0  2979.301413  1509.791006  1188.851168  923.043238  1266.361929   \n",
       "\n",
       "            T5          T6          T7          T8           T9  ...  \\\n",
       "0  1392.464093  916.700498  891.355448  945.422233  1023.492444  ...   \n",
       "\n",
       "       Cp1673K  TMaxGrowthVelocity  MaxGrowthVelocity  CrystallizationPeak  \\\n",
       "0  1549.560875          922.228785          -1.455071          1455.603986   \n",
       "\n",
       "   CrystallizationOnset  SurfaceTensionAboveTg  SurfaceTension1173K  \\\n",
       "0           1640.257382                0.61893             0.428889   \n",
       "\n",
       "   SurfaceTension1473K  SurfaceTension1573K  SurfaceTension1673K  \n",
       "0             0.101727             0.395164              1.75569  \n",
       "\n",
       "[1 rows x 85 columns]"
      ]
     },
     "execution_count": 5,
     "metadata": {},
     "output_type": "execute_result"
    }
   ],
   "source": [
    "dict_composition = dict(zip(COMPOUNDS, melhor_individuo_observado))\n",
    "display(dict_composition)\n",
    "predicao = MODEL.predict(dict_composition)\n",
    "predicao"
   ]
  },
  {
   "cell_type": "code",
   "execution_count": 6,
   "metadata": {},
   "outputs": [],
   "source": [
    "#sorted(list(dict_composition.values()))"
   ]
  },
  {
   "cell_type": "code",
   "execution_count": 7,
   "metadata": {},
   "outputs": [
    {
     "name": "stdout",
     "output_type": "stream",
     "text": [
      "122/126 compostos utilizados\n"
     ]
    }
   ],
   "source": [
    "count = 0\n",
    "for i in dict_composition.values():\n",
    "    if i != 0:\n",
    "        count += 1\n",
    "print(f\"{count}/{len(COMPOUNDS)} compostos utilizados\")"
   ]
  },
  {
   "cell_type": "code",
   "execution_count": 8,
   "metadata": {},
   "outputs": [
    {
     "name": "stdout",
     "output_type": "stream",
     "text": [
      "122/126 compostos utilizados\n"
     ]
    }
   ],
   "source": [
    "compostos_usados = len(list(dict_composition.values())) - (list(dict_composition.values())).count(0)\n",
    "\n",
    "print(f\"{compostos_usados}/{len(COMPOUNDS)} compostos utilizados\")"
   ]
  },
  {
   "cell_type": "code",
   "execution_count": 9,
   "metadata": {},
   "outputs": [
    {
     "name": "stdout",
     "output_type": "stream",
     "text": [
      "Preço: 12.66231621079504\n",
      "Módulo de Young: 121.10090611963687\n",
      "Microdureza: 10.944235405481077\n"
     ]
    }
   ],
   "source": [
    "from funcoes import preco_composicao\n",
    "\n",
    "preco = preco_composicao(melhor_individuo_observado, PRECOS)\n",
    "\n",
    "print(f\"Preço: {preco}\")\n",
    "print(f\"Módulo de Young: {float(predicao['YoungModulus'].iloc[0])}\")\n",
    "print(f\"Microdureza: {float(predicao['Microhardness'].iloc[0])}\")"
   ]
  },
  {
   "cell_type": "code",
   "execution_count": 10,
   "metadata": {
    "scrolled": true
   },
   "outputs": [
    {
     "data": {
      "text/plain": [
       "count    126.000000\n",
       "mean      19.570842\n",
       "std       65.880195\n",
       "min        0.022800\n",
       "25%        0.502725\n",
       "50%        2.820000\n",
       "75%       10.550000\n",
       "max      593.000000\n",
       "Name: Price per gram(dolar/gram), dtype: float64"
      ]
     },
     "execution_count": 10,
     "metadata": {},
     "output_type": "execute_result"
    }
   ],
   "source": [
    "df_compounds_and_prices['Price per gram(dolar/gram)'].describe()"
   ]
  },
  {
   "cell_type": "code",
   "execution_count": 11,
   "metadata": {},
   "outputs": [
    {
     "data": {
      "text/plain": [
       "[<matplotlib.lines.Line2D at 0x16370c9bd60>]"
      ]
     },
     "execution_count": 11,
     "metadata": {},
     "output_type": "execute_result"
    },
    {
     "data": {
      "image/png": "[encoded data removed]",
      "text/plain": [
       "<Figure size 640x480 with 1 Axes>"
      ]
     },
     "metadata": {},
     "output_type": "display_data"
    }
   ],
   "source": [
    "plt.plot(geracoes,melhores_das_geracoes)"
   ]
  },
  {
   "cell_type": "code",
   "execution_count": 12,
   "metadata": {},
   "outputs": [],
   "source": [
    "dicionario= {\n",
    "   'Preço':[preco],\n",
    "   'Módulo de Young': [float(predicao['YoungModulus'].iloc[0])],\n",
    "   'Microdureza': [float(predicao['Microhardness'].iloc[0])]\n",
    "\n",
    "}\n",
    "\n",
    "out = pd.DataFrame(dicionario)\n",
    "out.to_excel('dados_melhor_candidato.xlsx')\n",
    "evolucao = pd.DataFrame()\n",
    "evolucao['Gerações'] = geracoes\n",
    "evolucao['Score'] = melhores_das_geracoes\n",
    "evolucao['Microhardness'] = melhores_hardness\n",
    "evolucao['Módulo de Young'] = melhores_modulos_young\n",
    "evolucao['Preços'] = melhores_precos\n",
    "evolucao['Número de compostos usados']=numeros_de_compostos_usados\n",
    "evolucao['Composição'] = composicoes_melhores\n",
    "evolucao.to_excel('evolucao.xlsx')"
   ]
  }
 ],
 "metadata": {
  "kernelspec": {
   "display_name": "Python 3 (ipykernel)",
   "language": "python",
   "name": "python3"
  },
  "language_info": {
   "codemirror_mode": {
    "name": "ipython",
    "version": 3
   },
   "file_extension": ".py",
   "mimetype": "text/x-python",
   "name": "python",
   "nbconvert_exporter": "python",
   "pygments_lexer": "ipython3",
   "version": "3.10.8"
  },
  "vscode": {
   "interpreter": {
    "hash": "26de051ba29f2982a8de78e945f0abaf191376122a1563185a90213a26c5da77"
   }
  }
 },
 "nbformat": 4,
 "nbformat_minor": 2
}
