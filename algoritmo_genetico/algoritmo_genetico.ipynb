{
 "cells": [
  {
   "cell_type": "markdown",
   "metadata": {},
   "source": [
    "# Projeto Final Algoritmos Genéticos: Otimização de vidros à prova de bala\n",
    "\n",
    "#### Trio: csv_Computeiros_sinápticos_virtuais \n",
    "\n",
    "#### Integrantes: Diogo Pereira de Lima Carvalho, José David Sales e Mayllon Emmanoel Pequeno"
   ]
  },
  {
   "cell_type": "markdown",
   "metadata": {
    "tags": []
   },
   "source": [
    "<p style=\"text-align: justify\"><h5> O objetivo do notebook abaixo é a implementação de um algoritmo genético que busque a melhor composição para vidros à prova de bala considerando apenas compostos óxidos. O algoritmo conta com a criação de uma população, seleção de indivíduos, cruzamento, mutação e atualização no hall da fama. As constantes utilizadas no decorrer do algoritmo são declaradas abaixo </h5></p>"
   ]
  },
  {
   "cell_type": "code",
   "execution_count": 1,
   "metadata": {},
   "outputs": [],
   "source": [
    "import pandas as pd\n",
    "import numpy as np\n",
    "import matplotlib.pyplot as plt\n",
    "from glasspy.predict import GlassNet\n",
    "from glasspy.data import SciGlass\n",
    "from functools import partial\n",
    "import seaborn as sns\n",
    " \n",
    "from funcoes import cria_populacao_compostos as cria_populacao\n",
    "from funcoes import funcao_objetivo_pop as funcao_objetivo_pop\n",
    "from funcoes import selecao_torneio_min as funcao_selecao\n",
    "from funcoes import cruzamento_ponto_simples_e_duplo as funcao_cruzamento\n",
    "from funcoes import mutacao_sucessiva as funcao_mutacao_1\n",
    "from funcoes import mutacao_simples as funcao_mutacao_2\n",
    "from funcoes import mutacao_troca as funcao_mutacao_3\n",
    "from funcoes import preco_composicao"
   ]
  },
  {
   "cell_type": "code",
   "execution_count": 2,
   "metadata": {},
   "outputs": [],
   "source": [
    "df_compounds_and_prices = pd.read_csv('../analise_exploratoria/Prices.csv',sep=',')\n",
    "\n",
    "COMPOUNDS = list(df_compounds_and_prices['Oxide Coumpounds'])\n",
    "PRECOS = list(df_compounds_and_prices['Price per gram(dolar/gram)'])\n",
    "NUM_COMPOUNDS = len(COMPOUNDS)\n",
    "VALOR_MAX_COMPOUNDS = 20\n",
    "\n",
    "TAMANHO_POPULACAO = 1000\n",
    "NUM_GERACOES = 20\n",
    "CHANCE_DE_CRUZAMENTO = 0.5\n",
    "CHANCE_DE_MUTACAO = 0.05\n",
    "CHANCE_DE_MUTACAO_POR_GENE = 0.25\n",
    "TAMANHO_TORNEIO = 3"
   ]
  },
  {
   "cell_type": "markdown",
   "metadata": {},
   "source": [
    "<p style=\"text-align: justify\"><h5>Uma instância do GlassNet é criada, esse modelo é o que posteriormente utilizaremos para fazer a predição das propriedades do material vítreo com base nos compostos informados. Também é criada uma função objetivo parcial já contendo os parâmetros necessários para a resolução de um problema específico do código atual</h5></p>"
   ]
  },
  {
   "cell_type": "code",
   "execution_count": 3,
   "metadata": {},
   "outputs": [
    {
     "name": "stderr",
     "output_type": "stream",
     "text": [
      "C:\\Users\\jose23038\\AppData\\Roaming\\Python\\Python310\\site-packages\\sklearn\\base.py:376: InconsistentVersionWarning: Trying to unpickle estimator MinMaxScaler from version 1.2.0 when using version 1.4.1.post1. This might lead to breaking code or invalid results. Use at your own risk. For more info please refer to:\n",
      "https://scikit-learn.org/stable/model_persistence.html#security-maintainability-limitations\n",
      "  warnings.warn(\n"
     ]
    }
   ],
   "source": [
    "#source = SciGlass()\n",
    "MODEL = GlassNet()\n",
    "\n",
    "funcao_objetivo = partial(funcao_objetivo_pop, lista_de_compostos=COMPOUNDS, lista_de_precos=PRECOS, modelo=MODEL)"
   ]
  },
  {
   "cell_type": "markdown",
   "metadata": {},
   "source": [
    "<p style=\"text-align: justify\"><h5> A evolução do algoritmo genético é descrita abaixo. Nela, uma população é criada com os parâmetros dos compostos dados, nessa população, indivíduos são aleatoriamente selecionados com base em seu “fitness”, a função de cruzamento duplo é chamada e mistura o material genético entre pares dos indivíduos selecionados. Após, isso, três funções de mutações são aplicadas, sendo elas: simples, sucessiva e de troca. A etapa de mutação é de extrema importância, pois, permite a incorporação de informação nova no sistema. Após isso o hall da fama é atualizado com o indivíduo de menor valor de “fitness”</h5></p>"
   ]
  },
  {
   "cell_type": "markdown",
   "metadata": {},
   "source": [
    "<p style=\"text-align: justify\"> A função objetivo computa um fitness de um candidato a partir na equação abaixo:\n",
    " \n",
    "$$\n",
    "Fitness = \\frac{\\sqrt{(\\frac{ModuloYoung}{ModuloYoung_{MAX}} - 1)^2 + (\\frac{Microdureza}{Microdureza_{MAX}} - 1)^2 + (\\frac{Preco}{Preco_{MAX}})^2}}{\\sqrt{3} \\cdot \\sqrt[3]{NumeroCompostosNaoUtilizados + 1}}\n",
    "$$"
   ]
  },
  {
   "cell_type": "code",
   "execution_count": 4,
   "metadata": {},
   "outputs": [
    {
     "name": "stdout",
     "output_type": "stream",
     "text": [
      "Geração 19\r"
     ]
    },
    {
     "data": {
      "text/plain": [
       "[0,\n",
       " 0,\n",
       " 0,\n",
       " 2,\n",
       " 8,\n",
       " 0,\n",
       " 1,\n",
       " 0,\n",
       " 0,\n",
       " 0,\n",
       " 0,\n",
       " 0,\n",
       " 0,\n",
       " 0,\n",
       " 0,\n",
       " 0,\n",
       " 0,\n",
       " 0,\n",
       " 0,\n",
       " 0,\n",
       " 0,\n",
       " 0,\n",
       " 0,\n",
       " 0,\n",
       " 0,\n",
       " 0,\n",
       " 0,\n",
       " 0,\n",
       " 0,\n",
       " 0,\n",
       " 0,\n",
       " 0,\n",
       " 0,\n",
       " 0,\n",
       " 0,\n",
       " 0,\n",
       " 0,\n",
       " 0,\n",
       " 0,\n",
       " 0,\n",
       " 0,\n",
       " 0,\n",
       " 0,\n",
       " 0,\n",
       " 0,\n",
       " 0,\n",
       " 0,\n",
       " 0,\n",
       " 0,\n",
       " 0,\n",
       " 0,\n",
       " 0,\n",
       " 0,\n",
       " 0,\n",
       " 0,\n",
       " 0,\n",
       " 0,\n",
       " 0,\n",
       " 0,\n",
       " 0,\n",
       " 0,\n",
       " 0,\n",
       " 0,\n",
       " 0,\n",
       " 0,\n",
       " 0,\n",
       " 0,\n",
       " 0,\n",
       " 0,\n",
       " 0,\n",
       " 0,\n",
       " 0,\n",
       " 0,\n",
       " 0,\n",
       " 0,\n",
       " 0,\n",
       " 0,\n",
       " 0,\n",
       " 0,\n",
       " 0,\n",
       " 0,\n",
       " 0,\n",
       " 0,\n",
       " 0,\n",
       " 0,\n",
       " 0,\n",
       " 0,\n",
       " 0,\n",
       " 0,\n",
       " 0,\n",
       " 0,\n",
       " 0,\n",
       " 0,\n",
       " 0,\n",
       " 0,\n",
       " 0,\n",
       " 0,\n",
       " 0,\n",
       " 0,\n",
       " 0,\n",
       " 0,\n",
       " 0,\n",
       " 0,\n",
       " 0,\n",
       " 0,\n",
       " 0,\n",
       " 0,\n",
       " 0,\n",
       " 0,\n",
       " 0,\n",
       " 0,\n",
       " 0,\n",
       " 0,\n",
       " 0,\n",
       " 0,\n",
       " 0,\n",
       " 0,\n",
       " 0,\n",
       " 0,\n",
       " 0,\n",
       " 0,\n",
       " 0,\n",
       " 0,\n",
       " 0,\n",
       " 0,\n",
       " 0]"
      ]
     },
     "execution_count": 4,
     "metadata": {},
     "output_type": "execute_result"
    }
   ],
   "source": [
    "\n",
    "populacao = cria_populacao(TAMANHO_POPULACAO, NUM_COMPOUNDS, VALOR_MAX_COMPOUNDS)\n",
    "\n",
    "hall_da_fama = []\n",
    "\n",
    "geracoes =[]\n",
    "melhores_das_geracoes = []\n",
    "melhores_hardness = []\n",
    "melhores_modulos_young = []\n",
    "melhores_precos = []\n",
    "composicoes_melhores = []\n",
    "numeros_de_compostos_usados = []\n",
    "\n",
    "for n in range(NUM_GERACOES):\n",
    "    print(f'Geração {n}', end='\\r') \n",
    "    \n",
    "    # Seleção\n",
    "    fitness = funcao_objetivo(populacao)        \n",
    "    selecionados = funcao_selecao(populacao, fitness, TAMANHO_TORNEIO)\n",
    "    \n",
    "    # Cruzamento\n",
    "    proxima_geracao = []\n",
    "    for pai, mae in zip(selecionados[::2], selecionados[1::2]):\n",
    "        individuo1, individuo2 = funcao_cruzamento(pai, mae, CHANCE_DE_CRUZAMENTO)\n",
    "        proxima_geracao.append(individuo1)\n",
    "        proxima_geracao.append(individuo2)\n",
    "    \n",
    "    # Mutação\n",
    "    funcao_mutacao_1(proxima_geracao, CHANCE_DE_MUTACAO, CHANCE_DE_MUTACAO_POR_GENE, VALOR_MAX_COMPOUNDS)\n",
    "    funcao_mutacao_2(proxima_geracao, CHANCE_DE_MUTACAO, VALOR_MAX_COMPOUNDS)\n",
    "    funcao_mutacao_3(proxima_geracao, CHANCE_DE_MUTACAO)\n",
    "        \n",
    "    # Atualização do hall da fama\n",
    "    fitness = funcao_objetivo(proxima_geracao)\n",
    "        \n",
    "    menor_fitness = min(fitness)\n",
    "    indice = fitness.index(menor_fitness)\n",
    "    hall_da_fama.append(proxima_geracao[indice])    \n",
    "        \n",
    "    melhor_individuo_geracao = hall_da_fama[n]\n",
    "    dict_composition = dict(zip(COMPOUNDS, melhor_individuo_geracao))\n",
    "    predicao = MODEL.predict(dict_composition)\n",
    "    preco_melhor_local = preco_composicao(melhor_individuo_geracao, PRECOS)\n",
    "\n",
    "        \n",
    "    dicionario_composicao_limpa = {chave: valor for chave, valor in dict_composition.items() if valor != 0}\n",
    "    numero_de_compostsos = len(list(dicionario_composicao_limpa.keys()))\n",
    "        \n",
    "    melhores_das_geracoes.append(menor_fitness)\n",
    "    melhores_hardness.append(predicao['Microhardness'].iloc[0])\n",
    "    melhores_modulos_young.append(predicao['YoungModulus'].iloc[0])\n",
    "    melhores_precos.append(preco_melhor_local)\n",
    "    composicoes_melhores.append(dicionario_composicao_limpa)\n",
    "    numeros_de_compostos_usados.append(numero_de_compostsos)\n",
    "    geracoes.append(n+1)\n",
    "    \n",
    "    # Encerramento\n",
    "    populacao = proxima_geracao\n",
    "    \n",
    "    \n",
    "    evolucao = pd.DataFrame()\n",
    "    evolucao['Gerações'] = geracoes\n",
    "    evolucao['Fitness'] = melhores_das_geracoes\n",
    "    evolucao['Microhardness'] = melhores_hardness\n",
    "    evolucao['Módulo de Young'] = melhores_modulos_young\n",
    "    evolucao['Preços'] = melhores_precos\n",
    "    evolucao['Número de compostos usados']=numeros_de_compostos_usados\n",
    "    evolucao['Composição'] = composicoes_melhores\n",
    "    evolucao.to_excel('Melhores de cada geração.xlsx')\n",
    "        \n",
    "fitness = funcao_objetivo(hall_da_fama)\n",
    "menor_fitness = min(fitness)\n",
    "indice = fitness.index(menor_fitness)\n",
    "melhor_individuo_observado = hall_da_fama[indice]\n",
    "melhor_individuo_observado"
   ]
  },
  {
   "cell_type": "markdown",
   "metadata": {},
   "source": [
    "<p style=\"text-align: justify\"><h5>Abaixo, relacionamos os genes do melhor indivíduo observado com a ordem de composição informada, utilizando também o modelo preditivo para obter as propriedades do material vítreo com base na composição do melhor indivíduo.</h5></p>"
   ]
  },
  {
   "cell_type": "code",
   "execution_count": 5,
   "metadata": {},
   "outputs": [
    {
     "name": "stdout",
     "output_type": "stream",
     "text": [
      "Valores arbitrários de cada composto: {'Na2O': 2, 'Al2O3': 8, 'CaO': 1}\n"
     ]
    }
   ],
   "source": [
    "dict_composition = dict(zip(COMPOUNDS, melhor_individuo_observado))\n",
    "dict_composition_no_zeros = {chave: valor for chave, valor in dict_composition.items() if valor != 0}\n",
    "\n",
    "print(f'Valores arbitrários de cada composto: {dict_composition_no_zeros}')"
   ]
  },
  {
   "cell_type": "code",
   "execution_count": 6,
   "metadata": {},
   "outputs": [],
   "source": [
    "#sorted(list(dict_composition.values()))"
   ]
  },
  {
   "cell_type": "code",
   "execution_count": 7,
   "metadata": {},
   "outputs": [
    {
     "data": {
      "text/plain": [
       "{'Na2O': 0.182, 'Al2O3': 0.727, 'CaO': 0.091}"
      ]
     },
     "metadata": {},
     "output_type": "display_data"
    },
    {
     "name": "stdout",
     "output_type": "stream",
     "text": [
      "Valores de cada composto em porcentagem de grama: {'Na2O': 2, 'Al2O3': 8, 'CaO': 1}\n"
     ]
    }
   ],
   "source": [
    "candidato_relacao_por_grama = np.array(melhor_individuo_observado)/sum(melhor_individuo_observado) if sum(melhor_individuo_observado) != 0 else 0\n",
    "\n",
    "dict_candidato_relacao_por_grama = {chave: round(valor, 3) for chave, valor in dict(zip(COMPOUNDS, candidato_relacao_por_grama)).items() if valor != 0}\n",
    "display(dict_candidato_relacao_por_grama)\n",
    "\n",
    "lista_compostos_utilizados = list(dict_candidato_relacao_por_grama.keys())\n",
    "print(f'Valores de cada composto em porcentagem de grama: {dict_composition_no_zeros}')"
   ]
  },
  {
   "cell_type": "code",
   "execution_count": 8,
   "metadata": {},
   "outputs": [
    {
     "name": "stdout",
     "output_type": "stream",
     "text": [
      "Preços por grama dos compostos utilizados: {'Na2O': 2, 'Al2O3': 8, 'CaO': 1}\n"
     ]
    }
   ],
   "source": [
    "dict_precos_utilizados = {chave: valor for chave, valor in dict(zip(COMPOUNDS, PRECOS)).items() if chave in lista_compostos_utilizados}\n",
    "print(f'Preços por grama dos compostos utilizados: {dict_composition_no_zeros}')"
   ]
  },
  {
   "cell_type": "markdown",
   "metadata": {},
   "source": [
    "<p style=\"text-align: justify\"><h5>Abaixo podemos verificar a quantidade de compostos utilizados na composição do melhor indivíduo observado. Objetivamos também minimizar a quantidade de compostos usados</h5></p>"
   ]
  },
  {
   "cell_type": "code",
   "execution_count": 9,
   "metadata": {},
   "outputs": [
    {
     "name": "stdout",
     "output_type": "stream",
     "text": [
      "3/126 compostos utilizados\n"
     ]
    }
   ],
   "source": [
    "compostos_usados = len(list(dict_composition.values())) - (list(dict_composition.values())).count(0)\n",
    "\n",
    "print(f\"{compostos_usados}/{len(COMPOUNDS)} compostos utilizados\")"
   ]
  },
  {
   "cell_type": "code",
   "execution_count": 10,
   "metadata": {},
   "outputs": [
    {
     "name": "stdout",
     "output_type": "stream",
     "text": [
      "Preço: 0.4914181818181818\n",
      "Módulo de Young: 132.75180530783499\n",
      "Microdureza: 8.054799999885264\n"
     ]
    }
   ],
   "source": [
    "from funcoes import preco_composicao\n",
    "\n",
    "preco = preco_composicao(melhor_individuo_observado, PRECOS)\n",
    "\n",
    "print(f\"Preço: {preco}\")\n",
    "print(f\"Módulo de Young: {float(predicao['YoungModulus'].iloc[0])}\")\n",
    "print(f\"Microdureza: {float(predicao['Microhardness'].iloc[0])}\")"
   ]
  },
  {
   "cell_type": "code",
   "execution_count": 11,
   "metadata": {
    "scrolled": true
   },
   "outputs": [
    {
     "data": {
      "text/plain": [
       "count    126.000000\n",
       "mean      19.570842\n",
       "std       65.880195\n",
       "min        0.022800\n",
       "25%        0.502725\n",
       "50%        2.820000\n",
       "75%       10.550000\n",
       "max      593.000000\n",
       "Name: Price per gram(dolar/gram), dtype: float64"
      ]
     },
     "execution_count": 11,
     "metadata": {},
     "output_type": "execute_result"
    }
   ],
   "source": [
    "df_compounds_and_prices['Price per gram(dolar/gram)'].describe()"
   ]
  },
  {
   "cell_type": "code",
   "execution_count": 12,
   "metadata": {},
   "outputs": [
    {
     "data": {
      "text/plain": [
       "Text(0, 0.5, 'Melhor Fitness')"
      ]
     },
     "execution_count": 12,
     "metadata": {},
     "output_type": "execute_result"
    },
    {
     "data": {
      "image/png": "[encoded data removed]",
      "text/plain": [
       "<Figure size 640x480 with 1 Axes>"
      ]
     },
     "metadata": {},
     "output_type": "display_data"
    }
   ],
   "source": [
    "sns.set(style='dark', palette='muted')\n",
    "plt.plot(geracoes,melhores_das_geracoes)\n",
    "plt.title('Gráfico de Número de gerações pelo melhor indivíduo observado\\n', fontsize=12)\n",
    "plt.xlabel('Gerações', fontsize=10)\n",
    "plt.ylabel('Melhor Fitness', fontsize=10)"
   ]
  },
  {
   "cell_type": "markdown",
   "metadata": {},
   "source": [
    "No gráfico acima, podemos ver que a medida que aumentamos o número de gerações, o nosso problema converge para um composto (ponto) específico. Como estamos tratando de uma função objetivo que visa minimizar o fitness, o padrão de decaimento do gráfico consiste com essa implementação."
   ]
  },
  {
   "cell_type": "markdown",
   "metadata": {},
   "source": [
    "### Conclusão"
   ]
  },
  {
   "cell_type": "markdown",
   "metadata": {},
   "source": [
    "Nesse notebook, realizamos a evolução do algoritmo genético utilizando as funções contidas no script \"funcoes.py\", avaliamos como os melhores indivíduos se comportam a medida que percorremos as gerações e encontramos a melhor composição que atenda aos critérios estabelecidos para a resolução do problema."
   ]
  }
 ],
 "metadata": {
  "kernelspec": {
   "display_name": "Python 3.10.8 64-bit",
   "language": "python",
   "name": "python3"
  },
  "language_info": {
   "codemirror_mode": {
    "name": "ipython",
    "version": 3
   },
   "file_extension": ".py",
   "mimetype": "text/x-python",
   "name": "python",
   "nbconvert_exporter": "python",
   "pygments_lexer": "ipython3",
   "version": "3.10.8"
  },
  "vscode": {
   "interpreter": {
    "hash": "26de051ba29f2982a8de78e945f0abaf191376122a1563185a90213a26c5da77"
   }
  }
 },
 "nbformat": 4,
 "nbformat_minor": 4
}
