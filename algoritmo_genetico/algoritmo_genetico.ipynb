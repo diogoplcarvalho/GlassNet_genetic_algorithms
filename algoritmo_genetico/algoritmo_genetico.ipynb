{
 "cells": [
  {
   "cell_type": "code",
   "execution_count": 1,
   "metadata": {},
   "outputs": [],
   "source": [
    "import pandas as pd\n",
    "import numpy as np\n",
    "import matplotlib.pyplot as plt\n",
    "from glasspy.predict import GlassNet\n",
    "from glasspy.data import SciGlass\n",
    "from functools import partial\n",
    " \n",
    "from funcoes import cria_populacao_compostos as cria_populacao\n",
    "from funcoes import funcao_objetivo_pop as funcao_objetivo_pop\n",
    "from funcoes import selecao_torneio_min as funcao_selecao\n",
    "from funcoes import cruzamento_ponto_duplo as funcao_cruzamento\n",
    "from funcoes import mutacao_sucessiva as funcao_mutacao_1\n",
    "from funcoes import mutacao_simples as funcao_mutacao_2"
   ]
  },
  {
   "cell_type": "code",
   "execution_count": 2,
   "metadata": {},
   "outputs": [],
   "source": [
    "df_compounds_and_prices = pd.read_csv('../analise_exploratoria/Prices.csv',sep=',')\n",
    "\n",
    "COMPOUNDS = list(df_compounds_and_prices['Oxide Coumpounds'])\n",
    "PRECOS = list(df_compounds_and_prices['Price per gram(dolar/gram)'])\n",
    "NUM_COMPOUNDS = len(COMPOUNDS)\n",
    "VALOR_MAX_COMPOUNDS = 100\n",
    "\n",
    "TAMANHO_POPULACAO = 300\n",
    "NUM_GERACOES = 20\n",
    "CHANCE_DE_CRUZAMENTO = 0.5\n",
    "CHANCE_DE_MUTACAO = 0.05\n",
    "CHANCE_DE_MUTACAO_POR_GENE = 0.25\n",
    "TAMANHO_TORNEIO = 3"
   ]
  },
  {
   "cell_type": "code",
   "execution_count": 3,
   "metadata": {},
   "outputs": [],
   "source": [
    "source = SciGlass()\n",
    "MODEL = GlassNet()\n",
    "\n",
    "funcao_objetivo = partial(funcao_objetivo_pop, lista_de_compostos=COMPOUNDS, lista_de_precos=PRECOS, modelo=MODEL)"
   ]
  },
  {
   "cell_type": "code",
   "execution_count": 4,
   "metadata": {},
   "outputs": [
    {
     "name": "stdout",
     "output_type": "stream",
     "text": [
      "Geração 19\r"
     ]
    },
    {
     "data": {
      "text/plain": [
       "[9,\n",
       " 63,\n",
       " 47,\n",
       " 31,\n",
       " 25,\n",
       " 0,\n",
       " 55,\n",
       " 58,\n",
       " 64,\n",
       " 20,\n",
       " 87,\n",
       " 0,\n",
       " 5,\n",
       " 0,\n",
       " 34,\n",
       " 31,\n",
       " 23,\n",
       " 93,\n",
       " 75,\n",
       " 95,\n",
       " 0,\n",
       " 85,\n",
       " 71,\n",
       " 36,\n",
       " 3,\n",
       " 87,\n",
       " 21,\n",
       " 100,\n",
       " 94,\n",
       " 43,\n",
       " 0,\n",
       " 99,\n",
       " 100,\n",
       " 63,\n",
       " 47,\n",
       " 75,\n",
       " 0,\n",
       " 13,\n",
       " 81,\n",
       " 89,\n",
       " 24,\n",
       " 12,\n",
       " 97,\n",
       " 70,\n",
       " 0,\n",
       " 21,\n",
       " 0,\n",
       " 0,\n",
       " 74,\n",
       " 49,\n",
       " 35,\n",
       " 94,\n",
       " 52,\n",
       " 61,\n",
       " 43,\n",
       " 28,\n",
       " 36,\n",
       " 24,\n",
       " 0,\n",
       " 84,\n",
       " 0,\n",
       " 84,\n",
       " 97,\n",
       " 96,\n",
       " 0,\n",
       " 34,\n",
       " 70,\n",
       " 78,\n",
       " 80,\n",
       " 100,\n",
       " 91,\n",
       " 47,\n",
       " 94,\n",
       " 8,\n",
       " 95,\n",
       " 86,\n",
       " 75,\n",
       " 97,\n",
       " 6,\n",
       " 39,\n",
       " 63,\n",
       " 41,\n",
       " 0,\n",
       " 80,\n",
       " 11,\n",
       " 45,\n",
       " 0,\n",
       " 14,\n",
       " 0,\n",
       " 0,\n",
       " 17,\n",
       " 54,\n",
       " 0,\n",
       " 18,\n",
       " 34,\n",
       " 0,\n",
       " 84,\n",
       " 0,\n",
       " 83,\n",
       " 18,\n",
       " 91,\n",
       " 22,\n",
       " 74,\n",
       " 12,\n",
       " 26,\n",
       " 96,\n",
       " 63,\n",
       " 0,\n",
       " 52,\n",
       " 60,\n",
       " 93,\n",
       " 0,\n",
       " 16,\n",
       " 48,\n",
       " 26,\n",
       " 45,\n",
       " 0,\n",
       " 90,\n",
       " 44,\n",
       " 0,\n",
       " 0,\n",
       " 14,\n",
       " 70,\n",
       " 28,\n",
       " 27,\n",
       " 0]"
      ]
     },
     "execution_count": 4,
     "metadata": {},
     "output_type": "execute_result"
    }
   ],
   "source": [
    "populacao = cria_populacao(TAMANHO_POPULACAO, NUM_COMPOUNDS, VALOR_MAX_COMPOUNDS)\n",
    "\n",
    "hall_da_fama = []\n",
    "\n",
    "geracoes = np.arange(1,NUM_GERACOES+1,1)\n",
    "melhores_das_geracoes = []\n",
    "\n",
    "for n in range(NUM_GERACOES):\n",
    "    print(f'Geração {n}', end='\\r') \n",
    "    \n",
    "    # Seleção\n",
    "    fitness = funcao_objetivo(populacao)        \n",
    "    selecionados = funcao_selecao(populacao, fitness, TAMANHO_TORNEIO)\n",
    "    \n",
    "    # Cruzamento\n",
    "    proxima_geracao = []\n",
    "    for pai, mae in zip(selecionados[::2], selecionados[1::2]):\n",
    "        individuo1, individuo2 = funcao_cruzamento(pai, mae, CHANCE_DE_CRUZAMENTO)\n",
    "        proxima_geracao.append(individuo1)\n",
    "        proxima_geracao.append(individuo2)\n",
    "    \n",
    "    # Mutação\n",
    "    funcao_mutacao_1(proxima_geracao, CHANCE_DE_MUTACAO, CHANCE_DE_MUTACAO_POR_GENE, VALOR_MAX_COMPOUNDS)\n",
    "    funcao_mutacao_2(proxima_geracao, CHANCE_DE_MUTACAO, VALOR_MAX_COMPOUNDS)\n",
    "        \n",
    "    # Atualização do hall da fama\n",
    "    fitness = funcao_objetivo(proxima_geracao)\n",
    "        \n",
    "    menor_fitness = min(fitness)\n",
    "    indice = fitness.index(menor_fitness)\n",
    "    hall_da_fama.append(proxima_geracao[indice])    \n",
    "    melhores_das_geracoes.append(menor_fitness)\n",
    "    # Encerramento\n",
    "    populacao = proxima_geracao\n",
    "    \n",
    "    \n",
    "fitness = funcao_objetivo(hall_da_fama)\n",
    "menor_fitness = min(fitness)\n",
    "indice = fitness.index(menor_fitness)\n",
    "melhor_individuo_observado = hall_da_fama[indice]\n",
    "\n",
    "melhor_individuo_observado"
   ]
  },
  {
   "cell_type": "code",
   "execution_count": 5,
   "metadata": {},
   "outputs": [
    {
     "data": {
      "text/plain": [
       "{'SiO2': 9,\n",
       " 'P2O5': 63,\n",
       " 'ZrO2': 47,\n",
       " 'Na2O': 31,\n",
       " 'Al2O3': 25,\n",
       " 'Fe2O3': 0,\n",
       " 'CaO': 55,\n",
       " 'MgO': 58,\n",
       " 'MnO': 64,\n",
       " 'GeO2': 20,\n",
       " 'Li2O': 87,\n",
       " 'Ta2O5': 0,\n",
       " 'ZnO': 5,\n",
       " 'SrO': 0,\n",
       " 'CdO': 34,\n",
       " 'SnO2': 31,\n",
       " 'B2O3': 23,\n",
       " 'La2O3': 93,\n",
       " 'Ga2O3': 75,\n",
       " 'Y2O3': 95,\n",
       " 'TiO2': 0,\n",
       " 'Nb2O5': 85,\n",
       " 'PbO': 71,\n",
       " 'HfO2': 36,\n",
       " 'WO3': 3,\n",
       " 'Sb2O3': 87,\n",
       " 'Bi2O3': 21,\n",
       " 'BaO': 100,\n",
       " 'Cr2O3': 94,\n",
       " 'Cu2O': 43,\n",
       " 'BeO': 0,\n",
       " 'CuO': 99,\n",
       " 'Nd2O3': 100,\n",
       " 'CeO2': 63,\n",
       " 'Cs2O': 47,\n",
       " 'As2O3': 75,\n",
       " 'NH4NO3': 0,\n",
       " 'MoO3': 13,\n",
       " 'FeO': 81,\n",
       " 'Mn2O3': 89,\n",
       " 'SO2': 24,\n",
       " 'Ag2O': 12,\n",
       " 'TeO2': 97,\n",
       " 'CoO': 70,\n",
       " 'In2O3': 0,\n",
       " 'Sc2O3': 21,\n",
       " 'NiO': 0,\n",
       " 'V2O5': 0,\n",
       " 'Li2SO4': 74,\n",
       " 'As2O5': 49,\n",
       " 'MnO2': 35,\n",
       " 'Sm2O3': 94,\n",
       " 'Gd2O3': 52,\n",
       " 'Tb2O3': 61,\n",
       " 'Dy2O3': 43,\n",
       " 'Ho2O3': 28,\n",
       " 'Er2O3': 36,\n",
       " 'Yb2O3': 24,\n",
       " 'Co3O4': 0,\n",
       " 'Fe3O4': 84,\n",
       " 'SnO': 0,\n",
       " 'Mn3O4': 84,\n",
       " 'Pr2O3': 97,\n",
       " 'CrO3': 96,\n",
       " 'Na2SO4': 0,\n",
       " 'Pr6O11': 34,\n",
       " 'Co2O3': 70,\n",
       " 'Ti2O3': 78,\n",
       " '(NH4)2SO4': 80,\n",
       " 'K2SO4': 100,\n",
       " 'Cs2SO4': 91,\n",
       " 'Eu2O3': 47,\n",
       " 'SeO2': 94,\n",
       " 'Lu2O3': 8,\n",
       " 'BiOCl': 95,\n",
       " 'ZnSO4': 86,\n",
       " 'HgO': 75,\n",
       " 'Tm2O3': 97,\n",
       " 'PbSO4': 6,\n",
       " 'BaSO4': 39,\n",
       " 'La2(SO4)3': 63,\n",
       " 'MgSO4': 41,\n",
       " 'PbO2': 0,\n",
       " 'Tl2O3': 80,\n",
       " 'Pb3O4': 11,\n",
       " 'SiO': 45,\n",
       " 'Sn2O3': 0,\n",
       " 'RuO2': 14,\n",
       " 'Tb4O7': 0,\n",
       " 'CO2': 0,\n",
       " 'Ag2SO4': 17,\n",
       " 'C2H5OH': 54,\n",
       " 'Li2CO3': 0,\n",
       " 'Na2CO3': 18,\n",
       " 'Al2(SO4)3': 34,\n",
       " 'PdO': 0,\n",
       " 'MoO2': 84,\n",
       " 'Rh2O3': 0,\n",
       " 'CuSO4': 83,\n",
       " 'VOSO4': 18,\n",
       " 'LiNO3': 91,\n",
       " 'NH4H2PO4': 22,\n",
       " 'CoSO4': 74,\n",
       " 'Na2HPO4': 12,\n",
       " 'CaSO4': 26,\n",
       " 'CdSO4': 96,\n",
       " 'Ag2CO3': 63,\n",
       " 'AgNO3': 0,\n",
       " 'K2CO3': 52,\n",
       " 'Ca(NO3)2': 60,\n",
       " 'KNO3': 93,\n",
       " 'Cd(NO3)2': 0,\n",
       " 'C6H12O6': 16,\n",
       " 'H3BO3': 48,\n",
       " 'Nd2(SO4)3': 26,\n",
       " 'Gd2(SO4)3': 45,\n",
       " 'BaO2': 0,\n",
       " 'NaHSO4': 90,\n",
       " 'RbNO3': 44,\n",
       " 'Au2O3': 0,\n",
       " 'ReO3': 0,\n",
       " 'ZrSiO4': 14,\n",
       " 'AlPO4': 70,\n",
       " 'Na2B4O7': 28,\n",
       " 'CaCO3': 27,\n",
       " 'Re2O7': 0}"
      ]
     },
     "metadata": {},
     "output_type": "display_data"
    },
    {
     "data": {
      "text/html": [
       "<div>\n",
       "<style scoped>\n",
       "    .dataframe tbody tr th:only-of-type {\n",
       "        vertical-align: middle;\n",
       "    }\n",
       "\n",
       "    .dataframe tbody tr th {\n",
       "        vertical-align: top;\n",
       "    }\n",
       "\n",
       "    .dataframe thead th {\n",
       "        text-align: right;\n",
       "    }\n",
       "</style>\n",
       "<table border=\"1\" class=\"dataframe\">\n",
       "  <thead>\n",
       "    <tr style=\"text-align: right;\">\n",
       "      <th></th>\n",
       "      <th>T0</th>\n",
       "      <th>T1</th>\n",
       "      <th>T2</th>\n",
       "      <th>T3</th>\n",
       "      <th>T4</th>\n",
       "      <th>T5</th>\n",
       "      <th>T6</th>\n",
       "      <th>T7</th>\n",
       "      <th>T8</th>\n",
       "      <th>T9</th>\n",
       "      <th>...</th>\n",
       "      <th>Cp1673K</th>\n",
       "      <th>TMaxGrowthVelocity</th>\n",
       "      <th>MaxGrowthVelocity</th>\n",
       "      <th>CrystallizationPeak</th>\n",
       "      <th>CrystallizationOnset</th>\n",
       "      <th>SurfaceTensionAboveTg</th>\n",
       "      <th>SurfaceTension1173K</th>\n",
       "      <th>SurfaceTension1473K</th>\n",
       "      <th>SurfaceTension1573K</th>\n",
       "      <th>SurfaceTension1673K</th>\n",
       "    </tr>\n",
       "  </thead>\n",
       "  <tbody>\n",
       "    <tr>\n",
       "      <th>0</th>\n",
       "      <td>2998.392462</td>\n",
       "      <td>1516.904454</td>\n",
       "      <td>1226.681801</td>\n",
       "      <td>1005.937104</td>\n",
       "      <td>1219.001894</td>\n",
       "      <td>1298.366344</td>\n",
       "      <td>969.635611</td>\n",
       "      <td>929.343027</td>\n",
       "      <td>960.731918</td>\n",
       "      <td>998.139555</td>\n",
       "      <td>...</td>\n",
       "      <td>1436.342603</td>\n",
       "      <td>998.183743</td>\n",
       "      <td>-2.407537</td>\n",
       "      <td>1355.287941</td>\n",
       "      <td>1513.544474</td>\n",
       "      <td>0.555745</td>\n",
       "      <td>0.404732</td>\n",
       "      <td>0.168058</td>\n",
       "      <td>0.390491</td>\n",
       "      <td>1.480034</td>\n",
       "    </tr>\n",
       "  </tbody>\n",
       "</table>\n",
       "<p>1 rows × 85 columns</p>\n",
       "</div>"
      ],
      "text/plain": [
       "            T0           T1           T2           T3           T4  \\\n",
       "0  2998.392462  1516.904454  1226.681801  1005.937104  1219.001894   \n",
       "\n",
       "            T5          T6          T7          T8          T9  ...  \\\n",
       "0  1298.366344  969.635611  929.343027  960.731918  998.139555  ...   \n",
       "\n",
       "       Cp1673K  TMaxGrowthVelocity  MaxGrowthVelocity  CrystallizationPeak  \\\n",
       "0  1436.342603          998.183743          -2.407537          1355.287941   \n",
       "\n",
       "   CrystallizationOnset  SurfaceTensionAboveTg  SurfaceTension1173K  \\\n",
       "0           1513.544474               0.555745             0.404732   \n",
       "\n",
       "   SurfaceTension1473K  SurfaceTension1573K  SurfaceTension1673K  \n",
       "0             0.168058             0.390491             1.480034  \n",
       "\n",
       "[1 rows x 85 columns]"
      ]
     },
     "execution_count": 5,
     "metadata": {},
     "output_type": "execute_result"
    }
   ],
   "source": [
    "dict_composition = dict(zip(COMPOUNDS, melhor_individuo_observado))\n",
    "display(dict_composition)\n",
    "predicao = MODEL.predict(dict_composition)\n",
    "predicao"
   ]
  },
  {
   "cell_type": "code",
   "execution_count": 6,
   "metadata": {},
   "outputs": [],
   "source": [
    "#sorted(list(dict_composition.values()))"
   ]
  },
  {
   "cell_type": "code",
   "execution_count": 7,
   "metadata": {},
   "outputs": [
    {
     "name": "stdout",
     "output_type": "stream",
     "text": [
      "101/126 compostos utilizados\n"
     ]
    }
   ],
   "source": [
    "count = 0\n",
    "for i in dict_composition.values():\n",
    "    if i != 0:\n",
    "        count += 1\n",
    "print(f\"{count}/{len(COMPOUNDS)} compostos utilizados\")"
   ]
  },
  {
   "cell_type": "code",
   "execution_count": 17,
   "metadata": {},
   "outputs": [
    {
     "name": "stdout",
     "output_type": "stream",
     "text": [
      "101/126 compostos utilizados\n"
     ]
    }
   ],
   "source": [
    "compostos_usados = len(list(dict_composition.values())) - (list(dict_composition.values())).count(0)\n",
    "\n",
    "print(f\"{compostos_usados}/{len(COMPOUNDS)} compostos utilizados\")"
   ]
  },
  {
   "cell_type": "code",
   "execution_count": 15,
   "metadata": {},
   "outputs": [
    {
     "name": "stdout",
     "output_type": "stream",
     "text": [
      "Preço: 7.302588996763756\n",
      "Módulo de Young: 129.48936421161886\n",
      "Microdureza: 10.594823019118552\n"
     ]
    }
   ],
   "source": [
    "from funcoes import preco_composicao\n",
    "\n",
    "preco = preco_composicao(melhor_individuo_observado, PRECOS)\n",
    "\n",
    "print(f\"Preço: {preco}\")\n",
    "print(f\"Módulo de Young: {float(predicao['YoungModulus'].iloc[0])}\")\n",
    "print(f\"Microdureza: {float(predicao['Microhardness'].iloc[0])}\")"
   ]
  },
  {
   "cell_type": "code",
   "execution_count": 9,
   "metadata": {
    "scrolled": true
   },
   "outputs": [
    {
     "data": {
      "text/plain": [
       "count    126.000000\n",
       "mean      19.570842\n",
       "std       65.880195\n",
       "min        0.022800\n",
       "25%        0.502725\n",
       "50%        2.820000\n",
       "75%       10.550000\n",
       "max      593.000000\n",
       "Name: Price per gram(dolar/gram), dtype: float64"
      ]
     },
     "execution_count": 9,
     "metadata": {},
     "output_type": "execute_result"
    }
   ],
   "source": [
    "df_compounds_and_prices['Price per gram(dolar/gram)'].describe()"
   ]
  },
  {
   "cell_type": "code",
   "execution_count": 10,
   "metadata": {},
   "outputs": [
    {
     "data": {
      "text/plain": [
       "[<matplotlib.lines.Line2D at 0x7fe3279c05d0>]"
      ]
     },
     "execution_count": 10,
     "metadata": {},
     "output_type": "execute_result"
    },
    {
     "data": {
      "image/png": "[encoded data removed]",
      "text/plain": [
       "<Figure size 640x480 with 1 Axes>"
      ]
     },
     "metadata": {},
     "output_type": "display_data"
    }
   ],
   "source": [
    "plt.plot(geracoes,melhores_das_geracoes)"
   ]
  },
  {
   "cell_type": "code",
   "execution_count": null,
   "metadata": {},
   "outputs": [],
   "source": []
  }
 ],
 "metadata": {
  "kernelspec": {
   "display_name": "Python 3 (ipykernel)",
   "language": "python",
   "name": "python3"
  },
  "language_info": {
   "codemirror_mode": {
    "name": "ipython",
    "version": 3
   },
   "file_extension": ".py",
   "mimetype": "text/x-python",
   "name": "python",
   "nbconvert_exporter": "python",
   "pygments_lexer": "ipython3",
   "version": "3.11.3"
  },
  "vscode": {
   "interpreter": {
    "hash": "26de051ba29f2982a8de78e945f0abaf191376122a1563185a90213a26c5da77"
   }
  }
 },
 "nbformat": 4,
 "nbformat_minor": 2
}
