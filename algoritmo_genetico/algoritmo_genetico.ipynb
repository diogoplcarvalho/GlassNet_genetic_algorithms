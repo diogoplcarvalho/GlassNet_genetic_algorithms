{
 "cells": [
  {
   "cell_type": "code",
   "execution_count": 27,
   "metadata": {},
   "outputs": [],
   "source": [
    "import pandas as pd\n",
    "import numpy as np\n",
    "import matplotlib.pyplot as plt\n",
    "from glasspy.predict import GlassNet\n",
    "from glasspy.data import SciGlass\n",
    "from functools import partial\n",
    " \n",
    "from funcoes import cria_populacao_compostos as cria_populacao\n",
    "from funcoes import funcao_objetivo_pop as funcao_objetivo_pop\n",
    "from funcoes import selecao_torneio_min as funcao_selecao\n",
    "from funcoes import cruzamento_ponto_duplo as funcao_cruzamento\n",
    "from funcoes import mutacao_sucessiva as funcao_mutacao_1\n",
    "from funcoes import mutacao_simples as funcao_mutacao_2\n",
    "from funcoes import mutacao_troca as funcao_mutacao_3"
   ]
  },
  {
   "cell_type": "code",
   "execution_count": 28,
   "metadata": {},
   "outputs": [],
   "source": [
    "df_compounds_and_prices = pd.read_csv('../analise_exploratoria/Prices.csv',sep=',')\n",
    "\n",
    "COMPOUNDS = list(df_compounds_and_prices['Oxide Coumpounds'])\n",
    "PRECOS = list(df_compounds_and_prices['Price per gram(dolar/gram)'])\n",
    "NUM_COMPOUNDS = len(COMPOUNDS)\n",
    "VALOR_MAX_COMPOUNDS = 100\n",
    "\n",
    "TAMANHO_POPULACAO = 300\n",
    "NUM_GERACOES = 10\n",
    "CHANCE_DE_CRUZAMENTO = 0.5\n",
    "CHANCE_DE_MUTACAO = 0.05\n",
    "CHANCE_DE_MUTACAO_POR_GENE = 0.25\n",
    "TAMANHO_TORNEIO = 3"
   ]
  },
  {
   "cell_type": "code",
   "execution_count": 29,
   "metadata": {},
   "outputs": [],
   "source": [
    "#source = SciGlass()\n",
    "MODEL = GlassNet()\n",
    "\n",
    "funcao_objetivo = partial(funcao_objetivo_pop, lista_de_compostos=COMPOUNDS, lista_de_precos=PRECOS, modelo=MODEL)"
   ]
  },
  {
   "cell_type": "code",
   "execution_count": 30,
   "metadata": {},
   "outputs": [
    {
     "name": "stdout",
     "output_type": "stream",
     "text": [
      "Geração 9\r"
     ]
    },
    {
     "data": {
      "text/plain": [
       "[0,\n",
       " 0,\n",
       " 0,\n",
       " 0,\n",
       " 2,\n",
       " 0,\n",
       " 0,\n",
       " 0,\n",
       " 0,\n",
       " 0,\n",
       " 0,\n",
       " 0,\n",
       " 0,\n",
       " 0,\n",
       " 0,\n",
       " 0,\n",
       " 0,\n",
       " 0,\n",
       " 0,\n",
       " 0,\n",
       " 0,\n",
       " 0,\n",
       " 0,\n",
       " 0,\n",
       " 0,\n",
       " 0,\n",
       " 0,\n",
       " 0,\n",
       " 0,\n",
       " 0,\n",
       " 0,\n",
       " 0,\n",
       " 0,\n",
       " 0,\n",
       " 0,\n",
       " 0,\n",
       " 0,\n",
       " 0,\n",
       " 0,\n",
       " 0,\n",
       " 0,\n",
       " 0,\n",
       " 0,\n",
       " 0,\n",
       " 0,\n",
       " 0,\n",
       " 0,\n",
       " 0,\n",
       " 0,\n",
       " 0,\n",
       " 0,\n",
       " 0,\n",
       " 0,\n",
       " 0,\n",
       " 0,\n",
       " 0,\n",
       " 0,\n",
       " 0,\n",
       " 0,\n",
       " 0,\n",
       " 0,\n",
       " 0,\n",
       " 0,\n",
       " 0,\n",
       " 0,\n",
       " 0,\n",
       " 0,\n",
       " 0,\n",
       " 0,\n",
       " 0,\n",
       " 0,\n",
       " 0,\n",
       " 0,\n",
       " 0,\n",
       " 0,\n",
       " 0,\n",
       " 0,\n",
       " 0,\n",
       " 0,\n",
       " 0,\n",
       " 0,\n",
       " 0,\n",
       " 0,\n",
       " 0,\n",
       " 0,\n",
       " 0,\n",
       " 0,\n",
       " 0,\n",
       " 0,\n",
       " 0,\n",
       " 0,\n",
       " 0,\n",
       " 0,\n",
       " 0,\n",
       " 0,\n",
       " 0,\n",
       " 0,\n",
       " 0,\n",
       " 0,\n",
       " 0,\n",
       " 0,\n",
       " 0,\n",
       " 0,\n",
       " 0,\n",
       " 0,\n",
       " 0,\n",
       " 0,\n",
       " 0,\n",
       " 0,\n",
       " 0,\n",
       " 0,\n",
       " 0,\n",
       " 0,\n",
       " 0,\n",
       " 0,\n",
       " 0,\n",
       " 0,\n",
       " 0,\n",
       " 0,\n",
       " 0,\n",
       " 0,\n",
       " 0,\n",
       " 0,\n",
       " 0,\n",
       " 0,\n",
       " 0]"
      ]
     },
     "execution_count": 30,
     "metadata": {},
     "output_type": "execute_result"
    }
   ],
   "source": [
    "populacao = cria_populacao(TAMANHO_POPULACAO, NUM_COMPOUNDS, VALOR_MAX_COMPOUNDS)\n",
    "\n",
    "hall_da_fama = []\n",
    "\n",
    "geracoes = np.arange(1,NUM_GERACOES+1,1)\n",
    "melhores_das_geracoes = []\n",
    "\n",
    "for n in range(NUM_GERACOES):\n",
    "    print(f'Geração {n}', end='\\r') \n",
    "    \n",
    "    # Seleção\n",
    "    fitness = funcao_objetivo(populacao)        \n",
    "    selecionados = funcao_selecao(populacao, fitness, TAMANHO_TORNEIO)\n",
    "    \n",
    "    # Cruzamento\n",
    "    proxima_geracao = []\n",
    "    for pai, mae in zip(selecionados[::2], selecionados[1::2]):\n",
    "        individuo1, individuo2 = funcao_cruzamento(pai, mae, CHANCE_DE_CRUZAMENTO)\n",
    "        proxima_geracao.append(individuo1)\n",
    "        proxima_geracao.append(individuo2)\n",
    "    \n",
    "    # Mutação\n",
    "    funcao_mutacao_1(proxima_geracao, CHANCE_DE_MUTACAO, CHANCE_DE_MUTACAO_POR_GENE, VALOR_MAX_COMPOUNDS)\n",
    "    funcao_mutacao_2(proxima_geracao, CHANCE_DE_MUTACAO, VALOR_MAX_COMPOUNDS)\n",
    "    funcao_mutacao_3(proxima_geracao, CHANCE_DE_MUTACAO)\n",
    "        \n",
    "    # Atualização do hall da fama\n",
    "    fitness = funcao_objetivo(proxima_geracao)\n",
    "        \n",
    "    menor_fitness = min(fitness)\n",
    "    indice = fitness.index(menor_fitness)\n",
    "    hall_da_fama.append(proxima_geracao[indice])    \n",
    "    melhores_das_geracoes.append(menor_fitness)\n",
    "    # Encerramento\n",
    "    populacao = proxima_geracao\n",
    "    \n",
    "    \n",
    "fitness = funcao_objetivo(hall_da_fama)\n",
    "menor_fitness = min(fitness)\n",
    "indice = fitness.index(menor_fitness)\n",
    "melhor_individuo_observado = hall_da_fama[indice]\n",
    "\n",
    "melhor_individuo_observado"
   ]
  },
  {
   "cell_type": "code",
   "execution_count": 31,
   "metadata": {},
   "outputs": [
    {
     "data": {
      "text/plain": [
       "{'SiO2': 0,\n",
       " 'P2O5': 0,\n",
       " 'ZrO2': 0,\n",
       " 'Na2O': 0,\n",
       " 'Al2O3': 2,\n",
       " 'Fe2O3': 0,\n",
       " 'CaO': 0,\n",
       " 'MgO': 0,\n",
       " 'MnO': 0,\n",
       " 'GeO2': 0,\n",
       " 'Li2O': 0,\n",
       " 'Ta2O5': 0,\n",
       " 'ZnO': 0,\n",
       " 'SrO': 0,\n",
       " 'CdO': 0,\n",
       " 'SnO2': 0,\n",
       " 'B2O3': 0,\n",
       " 'La2O3': 0,\n",
       " 'Ga2O3': 0,\n",
       " 'Y2O3': 0,\n",
       " 'TiO2': 0,\n",
       " 'Nb2O5': 0,\n",
       " 'PbO': 0,\n",
       " 'HfO2': 0,\n",
       " 'WO3': 0,\n",
       " 'Sb2O3': 0,\n",
       " 'Bi2O3': 0,\n",
       " 'BaO': 0,\n",
       " 'Cr2O3': 0,\n",
       " 'Cu2O': 0,\n",
       " 'BeO': 0,\n",
       " 'CuO': 0,\n",
       " 'Nd2O3': 0,\n",
       " 'CeO2': 0,\n",
       " 'Cs2O': 0,\n",
       " 'As2O3': 0,\n",
       " 'NH4NO3': 0,\n",
       " 'MoO3': 0,\n",
       " 'FeO': 0,\n",
       " 'Mn2O3': 0,\n",
       " 'SO2': 0,\n",
       " 'Ag2O': 0,\n",
       " 'TeO2': 0,\n",
       " 'CoO': 0,\n",
       " 'In2O3': 0,\n",
       " 'Sc2O3': 0,\n",
       " 'NiO': 0,\n",
       " 'V2O5': 0,\n",
       " 'Li2SO4': 0,\n",
       " 'As2O5': 0,\n",
       " 'MnO2': 0,\n",
       " 'Sm2O3': 0,\n",
       " 'Gd2O3': 0,\n",
       " 'Tb2O3': 0,\n",
       " 'Dy2O3': 0,\n",
       " 'Ho2O3': 0,\n",
       " 'Er2O3': 0,\n",
       " 'Yb2O3': 0,\n",
       " 'Co3O4': 0,\n",
       " 'Fe3O4': 0,\n",
       " 'SnO': 0,\n",
       " 'Mn3O4': 0,\n",
       " 'Pr2O3': 0,\n",
       " 'CrO3': 0,\n",
       " 'Na2SO4': 0,\n",
       " 'Pr6O11': 0,\n",
       " 'Co2O3': 0,\n",
       " 'Ti2O3': 0,\n",
       " '(NH4)2SO4': 0,\n",
       " 'K2SO4': 0,\n",
       " 'Cs2SO4': 0,\n",
       " 'Eu2O3': 0,\n",
       " 'SeO2': 0,\n",
       " 'Lu2O3': 0,\n",
       " 'BiOCl': 0,\n",
       " 'ZnSO4': 0,\n",
       " 'HgO': 0,\n",
       " 'Tm2O3': 0,\n",
       " 'PbSO4': 0,\n",
       " 'BaSO4': 0,\n",
       " 'La2(SO4)3': 0,\n",
       " 'MgSO4': 0,\n",
       " 'PbO2': 0,\n",
       " 'Tl2O3': 0,\n",
       " 'Pb3O4': 0,\n",
       " 'SiO': 0,\n",
       " 'Sn2O3': 0,\n",
       " 'RuO2': 0,\n",
       " 'Tb4O7': 0,\n",
       " 'CO2': 0,\n",
       " 'Ag2SO4': 0,\n",
       " 'C2H5OH': 0,\n",
       " 'Li2CO3': 0,\n",
       " 'Na2CO3': 0,\n",
       " 'Al2(SO4)3': 0,\n",
       " 'PdO': 0,\n",
       " 'MoO2': 0,\n",
       " 'Rh2O3': 0,\n",
       " 'CuSO4': 0,\n",
       " 'VOSO4': 0,\n",
       " 'LiNO3': 0,\n",
       " 'NH4H2PO4': 0,\n",
       " 'CoSO4': 0,\n",
       " 'Na2HPO4': 0,\n",
       " 'CaSO4': 0,\n",
       " 'CdSO4': 0,\n",
       " 'Ag2CO3': 0,\n",
       " 'AgNO3': 0,\n",
       " 'K2CO3': 0,\n",
       " 'Ca(NO3)2': 0,\n",
       " 'KNO3': 0,\n",
       " 'Cd(NO3)2': 0,\n",
       " 'C6H12O6': 0,\n",
       " 'H3BO3': 0,\n",
       " 'Nd2(SO4)3': 0,\n",
       " 'Gd2(SO4)3': 0,\n",
       " 'BaO2': 0,\n",
       " 'NaHSO4': 0,\n",
       " 'RbNO3': 0,\n",
       " 'Au2O3': 0,\n",
       " 'ReO3': 0,\n",
       " 'ZrSiO4': 0,\n",
       " 'AlPO4': 0,\n",
       " 'Na2B4O7': 0,\n",
       " 'CaCO3': 0,\n",
       " 'Re2O7': 0}"
      ]
     },
     "metadata": {},
     "output_type": "display_data"
    },
    {
     "data": {
      "text/html": [
       "<div>\n",
       "<style scoped>\n",
       "    .dataframe tbody tr th:only-of-type {\n",
       "        vertical-align: middle;\n",
       "    }\n",
       "\n",
       "    .dataframe tbody tr th {\n",
       "        vertical-align: top;\n",
       "    }\n",
       "\n",
       "    .dataframe thead th {\n",
       "        text-align: right;\n",
       "    }\n",
       "</style>\n",
       "<table border=\"1\" class=\"dataframe\">\n",
       "  <thead>\n",
       "    <tr style=\"text-align: right;\">\n",
       "      <th></th>\n",
       "      <th>T0</th>\n",
       "      <th>T1</th>\n",
       "      <th>T2</th>\n",
       "      <th>T3</th>\n",
       "      <th>T4</th>\n",
       "      <th>T5</th>\n",
       "      <th>T6</th>\n",
       "      <th>T7</th>\n",
       "      <th>T8</th>\n",
       "      <th>T9</th>\n",
       "      <th>...</th>\n",
       "      <th>Cp1673K</th>\n",
       "      <th>TMaxGrowthVelocity</th>\n",
       "      <th>MaxGrowthVelocity</th>\n",
       "      <th>CrystallizationPeak</th>\n",
       "      <th>CrystallizationOnset</th>\n",
       "      <th>SurfaceTensionAboveTg</th>\n",
       "      <th>SurfaceTension1173K</th>\n",
       "      <th>SurfaceTension1473K</th>\n",
       "      <th>SurfaceTension1573K</th>\n",
       "      <th>SurfaceTension1673K</th>\n",
       "    </tr>\n",
       "  </thead>\n",
       "  <tbody>\n",
       "    <tr>\n",
       "      <th>0</th>\n",
       "      <td>1952.052788</td>\n",
       "      <td>1822.39931</td>\n",
       "      <td>1688.51556</td>\n",
       "      <td>1582.75676</td>\n",
       "      <td>1508.300711</td>\n",
       "      <td>1416.400004</td>\n",
       "      <td>1313.388781</td>\n",
       "      <td>1270.374681</td>\n",
       "      <td>1211.818043</td>\n",
       "      <td>1205.705061</td>\n",
       "      <td>...</td>\n",
       "      <td>1895.957729</td>\n",
       "      <td>1691.414078</td>\n",
       "      <td>-2.714815</td>\n",
       "      <td>1136.818199</td>\n",
       "      <td>1201.35406</td>\n",
       "      <td>0.511394</td>\n",
       "      <td>0.245589</td>\n",
       "      <td>0.33691</td>\n",
       "      <td>0.404689</td>\n",
       "      <td>0.390338</td>\n",
       "    </tr>\n",
       "  </tbody>\n",
       "</table>\n",
       "<p>1 rows × 85 columns</p>\n",
       "</div>"
      ],
      "text/plain": [
       "            T0          T1          T2          T3           T4           T5  \\\n",
       "0  1952.052788  1822.39931  1688.51556  1582.75676  1508.300711  1416.400004   \n",
       "\n",
       "            T6           T7           T8           T9  ...      Cp1673K  \\\n",
       "0  1313.388781  1270.374681  1211.818043  1205.705061  ...  1895.957729   \n",
       "\n",
       "   TMaxGrowthVelocity  MaxGrowthVelocity  CrystallizationPeak  \\\n",
       "0         1691.414078          -2.714815          1136.818199   \n",
       "\n",
       "   CrystallizationOnset  SurfaceTensionAboveTg  SurfaceTension1173K  \\\n",
       "0            1201.35406               0.511394             0.245589   \n",
       "\n",
       "   SurfaceTension1473K  SurfaceTension1573K  SurfaceTension1673K  \n",
       "0              0.33691             0.404689             0.390338  \n",
       "\n",
       "[1 rows x 85 columns]"
      ]
     },
     "execution_count": 31,
     "metadata": {},
     "output_type": "execute_result"
    }
   ],
   "source": [
    "dict_composition = dict(zip(COMPOUNDS, melhor_individuo_observado))\n",
    "display(dict_composition)\n",
    "predicao = MODEL.predict(dict_composition)\n",
    "predicao"
   ]
  },
  {
   "cell_type": "code",
   "execution_count": 32,
   "metadata": {},
   "outputs": [],
   "source": [
    "#sorted(list(dict_composition.values()))"
   ]
  },
  {
   "cell_type": "code",
   "execution_count": 33,
   "metadata": {},
   "outputs": [
    {
     "name": "stdout",
     "output_type": "stream",
     "text": [
      "1/126 compostos utilizados\n"
     ]
    }
   ],
   "source": [
    "compostos_usados = len(list(dict_composition.values())) - (list(dict_composition.values())).count(0)\n",
    "\n",
    "print(f\"{compostos_usados}/{len(COMPOUNDS)} compostos utilizados\")"
   ]
  },
  {
   "cell_type": "code",
   "execution_count": 34,
   "metadata": {},
   "outputs": [
    {
     "name": "stdout",
     "output_type": "stream",
     "text": [
      "Preço: 0.0657\n",
      "Módulo de Young: 173.52607712153676\n",
      "Microdureza: 12.068852318787737\n"
     ]
    }
   ],
   "source": [
    "from funcoes import preco_composicao\n",
    "\n",
    "preco = preco_composicao(melhor_individuo_observado, PRECOS)\n",
    "\n",
    "print(f\"Preço: {preco}\")\n",
    "print(f\"Módulo de Young: {float(predicao['YoungModulus'].iloc[0])}\")\n",
    "print(f\"Microdureza: {float(predicao['Microhardness'].iloc[0])}\")"
   ]
  },
  {
   "cell_type": "code",
   "execution_count": 35,
   "metadata": {
    "scrolled": true
   },
   "outputs": [
    {
     "data": {
      "text/plain": [
       "count    126.000000\n",
       "mean      19.570842\n",
       "std       65.880195\n",
       "min        0.022800\n",
       "25%        0.502725\n",
       "50%        2.820000\n",
       "75%       10.550000\n",
       "max      593.000000\n",
       "Name: Price per gram(dolar/gram), dtype: float64"
      ]
     },
     "execution_count": 35,
     "metadata": {},
     "output_type": "execute_result"
    }
   ],
   "source": [
    "df_compounds_and_prices['Price per gram(dolar/gram)'].describe()"
   ]
  },
  {
   "cell_type": "code",
   "execution_count": 36,
   "metadata": {},
   "outputs": [
    {
     "data": {
      "text/plain": [
       "[<matplotlib.lines.Line2D at 0x23d1cbe7520>]"
      ]
     },
     "execution_count": 36,
     "metadata": {},
     "output_type": "execute_result"
    },
    {
     "data": {
      "image/png": "[encoded data removed]",
      "text/plain": [
       "<Figure size 640x480 with 1 Axes>"
      ]
     },
     "metadata": {},
     "output_type": "display_data"
    }
   ],
   "source": [
    "plt.plot(geracoes,melhores_das_geracoes)"
   ]
  },
  {
   "cell_type": "code",
   "execution_count": 37,
   "metadata": {},
   "outputs": [],
   "source": [
    "populacao_valores = []\n",
    "for i in populacao:\n",
    "    if sum(i) \n",
    "    populacao_valores.append(sum(i))"
   ]
  },
  {
   "cell_type": "code",
   "execution_count": 38,
   "metadata": {},
   "outputs": [
    {
     "data": {
      "text/plain": [
       "25.888065890590504"
      ]
     },
     "execution_count": 38,
     "metadata": {},
     "output_type": "execute_result"
    }
   ],
   "source": [
    "desvio_padrao_populacao = np.std(populacao_valores)\n",
    "\n",
    "desvio_padrao_populacao"
   ]
  },
  {
   "cell_type": "code",
   "execution_count": null,
   "metadata": {},
   "outputs": [],
   "source": []
  }
 ],
 "metadata": {
  "kernelspec": {
   "display_name": "Python 3.10.8 ('ilumpy')",
   "language": "python",
   "name": "python3"
  },
  "language_info": {
   "codemirror_mode": {
    "name": "ipython",
    "version": 3
   },
   "file_extension": ".py",
   "mimetype": "text/x-python",
   "name": "python",
   "nbconvert_exporter": "python",
   "pygments_lexer": "ipython3",
   "version": "3.10.8"
  },
  "vscode": {
   "interpreter": {
    "hash": "8529d5d23f5cbf0c063605dab2c59e7e62347018e6f532e027d68294076af1e8"
   }
  }
 },
 "nbformat": 4,
 "nbformat_minor": 2
}
